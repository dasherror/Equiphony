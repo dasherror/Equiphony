{
 "cells": [
  {
   "cell_type": "code",
   "execution_count": 4,
   "metadata": {},
   "outputs": [
    {
     "name": "stdout",
     "output_type": "stream",
     "text": [
      "[{'BS': 1550,\n",
      "  'IT': 791,\n",
      "  'id': 11,\n",
      "  'name': 'Liverpool',\n",
      "  'to_id': 1,\n",
      "  'to_name': 'LONDON'},\n",
      " {'BS': 1510,\n",
      "  'IT': 793,\n",
      "  'id': 12,\n",
      "  'name': 'Bristol',\n",
      "  'to_id': 1,\n",
      "  'to_name': 'LONDON'},\n",
      " {'BS': 1650,\n",
      "  'IT': 892,\n",
      "  'id': 14,\n",
      "  'name': 'Coventry',\n",
      "  'to_id': 2,\n",
      "  'to_name': 'Manchester'}]\n"
     ]
    }
   ],
   "source": [
    "import yaml\n",
    "from pprint import pprint\n",
    "\n",
    "with open('info.yaml') as f:\n",
    "    templates = yaml.safe_load(f)\n",
    "\n",
    "pprint(templates)"
   ]
  },
  {
   "cell_type": "code",
   "execution_count": 5,
   "metadata": {},
   "outputs": [
    {
     "name": "stdout",
     "output_type": "stream",
     "text": [
      "access:\n",
      "- switchport mode access\n",
      "- switchport access vlan\n",
      "- switchport nonegotiate\n",
      "- spanning-tree portfast\n",
      "- spanning-tree bpduguard enable\n",
      "trunk:\n",
      "- switchport trunk encapsulation dot1q\n",
      "- switchport mode trunk\n",
      "- switchport trunk native vlan 999\n",
      "- switchport trunk allowed vlan\n",
      "\n"
     ]
    }
   ],
   "source": [
    "trunk_template = [\n",
    "    'switchport trunk encapsulation dot1q', 'switchport mode trunk',\n",
    "    'switchport trunk native vlan 999', 'switchport trunk allowed vlan'\n",
    "]\n",
    "\n",
    "access_template = [\n",
    "    'switchport mode access', 'switchport access vlan',\n",
    "    'switchport nonegotiate', 'spanning-tree portfast',\n",
    "    'spanning-tree bpduguard enable'\n",
    "]\n",
    "\n",
    "to_yaml = {'trunk': trunk_template, 'access': access_template}\n",
    "\n",
    "with open('sw_templates.yaml', 'w') as f:\n",
    "    yaml.dump(to_yaml, f, default_flow_style=False)\n",
    "\n",
    "with open('sw_templates.yaml') as f:\n",
    "    print(f.read())"
   ]
  },
  {
   "cell_type": "code",
   "execution_count": null,
   "metadata": {},
   "outputs": [],
   "source": []
  }
 ],
 "metadata": {
  "kernelspec": {
   "display_name": "Python 3",
   "language": "python",
   "name": "python3"
  },
  "language_info": {
   "codemirror_mode": {
    "name": "ipython",
    "version": 3
   },
   "file_extension": ".py",
   "mimetype": "text/x-python",
   "name": "python",
   "nbconvert_exporter": "python",
   "pygments_lexer": "ipython3",
   "version": "3.8.10"
  }
 },
 "nbformat": 4,
 "nbformat_minor": 4
}
