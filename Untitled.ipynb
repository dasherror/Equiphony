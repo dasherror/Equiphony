{
 "cells": [
  {
   "cell_type": "code",
   "execution_count": 8,
   "metadata": {},
   "outputs": [
    {
     "name": "stdout",
     "output_type": "stream",
     "text": [
      "3\n"
     ]
    }
   ],
   "source": [
    "xs = [3, 14, 65, 100, 95]\n",
    "max_index = max((0, 1, 2, 3, 4), key = lambda i: xs[i])\n",
    "print(max_index)"
   ]
  },
  {
   "cell_type": "code",
   "execution_count": 15,
   "metadata": {},
   "outputs": [],
   "source": [
    "class Buffer:\n",
    "    def __init__(self):\n",
    "        self.sequence = []\n",
    "    \n",
    "\n",
    "    def add(self, *a):\n",
    "        self.sequence.extend(a)\n",
    "        while len(self.sequence) >= 5:\n",
    "            print(sum(self.sequence[:5]))\n",
    "            del self.sequence[:5]\n",
    "\n",
    "\n",
    "    @property\n",
    "    def get_current_part(self):\n",
    "        return self.sequence"
   ]
  },
  {
   "cell_type": "code",
   "execution_count": 16,
   "metadata": {},
   "outputs": [],
   "source": [
    "buffer = Buffer()"
   ]
  },
  {
   "cell_type": "code",
   "execution_count": 17,
   "metadata": {},
   "outputs": [
    {
     "name": "stdout",
     "output_type": "stream",
     "text": [
      "15\n",
      "[]\n",
      "[1, 2]\n",
      "9\n",
      "[4, 5]\n"
     ]
    }
   ],
   "source": [
    "buffer.add(1, 2, 3, 4, 5)\n",
    "print(buffer.get_current_part)\n",
    "buffer.add(1, 2)\n",
    "print(buffer.get_current_part)\n",
    "buffer.add(1, 2, 3, 4, 5)\n",
    "print(buffer.get_current_part)"
   ]
  }
 ],
 "metadata": {
  "kernelspec": {
   "display_name": "Python 3",
   "language": "python",
   "name": "python3"
  },
  "language_info": {
   "codemirror_mode": {
    "name": "ipython",
    "version": 3
   },
   "file_extension": ".py",
   "mimetype": "text/x-python",
   "name": "python",
   "nbconvert_exporter": "python",
   "pygments_lexer": "ipython3",
   "version": "3.8.10"
  }
 },
 "nbformat": 4,
 "nbformat_minor": 4
}
